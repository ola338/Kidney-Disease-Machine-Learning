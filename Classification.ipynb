{
  "nbformat": 4,
  "nbformat_minor": 0,
  "metadata": {
    "colab": {
      "name": "Classification.ipynb",
      "provenance": [],
      "collapsed_sections": []
    },
    "kernelspec": {
      "name": "python3",
      "display_name": "Python 3"
    },
    "language_info": {
      "name": "python"
    }
  },
  "cells": [
    {
      "cell_type": "code",
      "metadata": {
        "id": "cZKjoPyVZtOA"
      },
      "source": [
        "import matplotlib.pyplot as plt\n",
        "from sklearn.svm import SVC\n",
        "from sklearn.metrics import plot_roc_curve\n",
        "from sklearn.datasets import load_wine\n",
        "from sklearn.model_selection import train_test_split \n",
        "import numpy as np\n",
        "import pandas as pd\n",
        "from sklearn.metrics import accuracy_score\n",
        "from sklearn.metrics import confusion_matrix, classification_report, plot_confusion_matrix, ConfusionMatrixDisplay"
      ],
      "execution_count": 17,
      "outputs": []
    },
    {
      "cell_type": "code",
      "metadata": {
        "colab": {
          "base_uri": "https://localhost:8080/"
        },
        "id": "_fwUzApkaY5Q",
        "outputId": "4f638050-3c83-45d5-fcc6-4a10ff9a0efd"
      },
      "source": [
        "X, y = load_wine(return_X_y=True)\n",
        "print(y)\n",
        "y = y == 2 # klasyfikacja binarna"
      ],
      "execution_count": 18,
      "outputs": [
        {
          "output_type": "stream",
          "text": [
            "[0 0 0 0 0 0 0 0 0 0 0 0 0 0 0 0 0 0 0 0 0 0 0 0 0 0 0 0 0 0 0 0 0 0 0 0 0\n",
            " 0 0 0 0 0 0 0 0 0 0 0 0 0 0 0 0 0 0 0 0 0 0 1 1 1 1 1 1 1 1 1 1 1 1 1 1 1\n",
            " 1 1 1 1 1 1 1 1 1 1 1 1 1 1 1 1 1 1 1 1 1 1 1 1 1 1 1 1 1 1 1 1 1 1 1 1 1\n",
            " 1 1 1 1 1 1 1 1 1 1 1 1 1 1 1 1 1 1 1 2 2 2 2 2 2 2 2 2 2 2 2 2 2 2 2 2 2\n",
            " 2 2 2 2 2 2 2 2 2 2 2 2 2 2 2 2 2 2 2 2 2 2 2 2 2 2 2 2 2 2]\n"
          ],
          "name": "stdout"
        }
      ]
    },
    {
      "cell_type": "code",
      "metadata": {
        "colab": {
          "base_uri": "https://localhost:8080/",
          "height": 279
        },
        "id": "edYm2Mo5aoAI",
        "outputId": "d6859868-af54-48b8-fd96-2777ecd9a5f2"
      },
      "source": [
        "X_train, X_test, y_train, y_test = train_test_split(X, y, random_state=0)\n",
        "fig, ax = plt.subplots() \n",
        "svc = SVC(kernel='linear')    #klasyfikator\n",
        "svc.fit(X_train, y_train)      # trenowanie\n",
        "plot_roc_curve(svc, X_test, y_test, ax=ax, name='SVC linear')       # ocena na zbiorze testowym \n",
        "svc = SVC(kernel='poly')\n",
        "svc.fit(X_train, y_train)\n",
        "plot_roc_curve(svc, X_test, y_test, ax=ax, name='SVC poly')\n",
        "svc1 = SVC(kernel='rbf')\n",
        "svc1.fit(X_train, y_train)\n",
        "plot_roc_curve(svc1, X_test, y_test, ax=ax, name='SVC rbf')\n",
        "plt.show() "
      ],
      "execution_count": 19,
      "outputs": [
        {
          "output_type": "display_data",
          "data": {
            "image/png": "[encoded data removed]",
            "text/plain": [
              "<Figure size 432x288 with 1 Axes>"
            ]
          },
          "metadata": {
            "tags": [],
            "needs_background": "light"
          }
        }
      ]
    },
    {
      "cell_type": "code",
      "metadata": {
        "colab": {
          "base_uri": "https://localhost:8080/",
          "height": 279
        },
        "id": "oBXRzHpSbMY_",
        "outputId": "50154331-f680-4719-fc5a-b63a180169f3"
      },
      "source": [
        "fig, ax = plt.subplots() \n",
        "svc = SVC(kernel='linear')\n",
        "svc.fit(X_train, y_train)\n",
        "plot_roc_curve(svc, X_train, y_train, ax=ax, name='SVC linear')\n",
        "svc = SVC(kernel='poly')\n",
        "svc.fit(X_train, y_train)\n",
        "plot_roc_curve(svc, X_train, y_train, ax=ax, name='SVC poly')\n",
        "svc1 = SVC(kernel='rbf')\n",
        "svc1.fit(X_train, y_train)\n",
        "plot_roc_curve(svc1, X_train, y_train, ax=ax, name='SVC rbf')\n",
        "plt.show() "
      ],
      "execution_count": 20,
      "outputs": [
        {
          "output_type": "display_data",
          "data": {
            "image/png": "[encoded data removed]",
            "text/plain": [
              "<Figure size 432x288 with 1 Axes>"
            ]
          },
          "metadata": {
            "tags": [],
            "needs_background": "light"
          }
        }
      ]
    },
    {
      "cell_type": "code",
      "metadata": {
        "colab": {
          "base_uri": "https://localhost:8080/",
          "height": 651
        },
        "id": "Fz5AaWiTfAuR",
        "outputId": "ae2448ee-b2ac-4665-eab5-ce4199ffefa1"
      },
      "source": [
        "X, y = load_wine(return_X_y=True)\n",
        "X_train, X_test, y_train, y_test = train_test_split(X, y, random_state=0)\n",
        "\n",
        "svc = SVC(kernel='linear')\n",
        "svc.fit(X_train, y_train)\n",
        "y_test_pred = svc.predict(X_test)   # predykcja wartości zmiennej zależnej\n",
        "\n",
        "print('\\nAccuracy (train):', accuracy_score(y_train, svc.predict(X_train)))\n",
        "print('Accuracy (test):', accuracy_score(y_test, y_test_pred), '\\n')\n",
        "\n",
        "labels = np.unique(y)   # wybór unikalnych etykiet\n",
        "print(classification_report(y_test, y_test_pred, labels=labels)) \n",
        "\n",
        "print('\\nConfusion matrix')\n",
        "cm = confusion_matrix(y_test, y_test_pred)   # obliczenie macierzy pomyłek\n",
        "print(pd.DataFrame(cm, index=labels, columns=labels))\n",
        "\n",
        "print('\\nConfusion matrix - plot')\n",
        "pcm = plot_confusion_matrix(svc, X_test, y_test, labels=labels)\n",
        "ConfusionMatrixDisplay(pcm, display_labels=labels)\n",
        "plt.show() "
      ],
      "execution_count": 21,
      "outputs": [
        {
          "output_type": "stream",
          "text": [
            "\n",
            "Accuracy (train): 0.9924812030075187\n",
            "Accuracy (test): 0.9777777777777777 \n",
            "\n",
            "              precision    recall  f1-score   support\n",
            "\n",
            "           0       1.00      1.00      1.00        16\n",
            "           1       1.00      0.95      0.98        21\n",
            "           2       0.89      1.00      0.94         8\n",
            "\n",
            "    accuracy                           0.98        45\n",
            "   macro avg       0.96      0.98      0.97        45\n",
            "weighted avg       0.98      0.98      0.98        45\n",
            "\n",
            "\n",
            "Confusion matrix\n",
            "    0   1  2\n",
            "0  16   0  0\n",
            "1   0  20  1\n",
            "2   0   0  8\n",
            "\n",
            "Confusion matrix - plot\n"
          ],
          "name": "stdout"
        },
        {
          "output_type": "display_data",
          "data": {
            "image/png": "[encoded data removed]",
            "text/plain": [
              "<Figure size 432x288 with 2 Axes>"
            ]
          },
          "metadata": {
            "tags": [],
            "needs_background": "light"
          }
        }
      ]
    },
    {
      "cell_type": "code",
      "metadata": {
        "id": "v5qgMe9Ipnkx"
      },
      "source": [
        ""
      ],
      "execution_count": null,
      "outputs": []
    }
  ]
}